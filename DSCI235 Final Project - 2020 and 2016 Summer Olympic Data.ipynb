{
 "cells": [
  {
   "cell_type": "code",
   "execution_count": 1,
   "id": "29575023",
   "metadata": {},
   "outputs": [
    {
     "data": {
      "application/javascript": [
       "IPython.notebook.set_autosave_interval(60000)"
      ]
     },
     "metadata": {},
     "output_type": "display_data"
    },
    {
     "name": "stdout",
     "output_type": "stream",
     "text": [
      "Autosaving every 60 seconds\n"
     ]
    }
   ],
   "source": [
    "import pandas as pd\n",
    "import numpy as np\n",
    "import matplotlib.pyplot as plt\n",
    "from datetime import datetime\n",
    "%autosave 60"
   ]
  },
  {
   "cell_type": "markdown",
   "id": "c25f2731",
   "metadata": {},
   "source": [
    "# DSCI 235 Final Project\n",
    "### By: Blake Davis and Elisabeth Ball\n",
    "\n",
    "Data Source 1: https://www.kaggle.com/datasets/aliaamiri/2020-summer-olympics-dataset?select=2020_Olympics_Dataset.csv <br>\n",
    "Data Source 2: https://www.kaggle.com/datasets/rio2016/olympic-games <br>\n",
    "GitHub: https://github.com/bdavis12302/2020-2016-Summer-Olympic-Data <br>\n",
    "\n",
    "## Project Description\n",
    "\n",
    "For this project, we are analyzing data from the Tokyo 2020 Olympics and the Rio 2016 Olympics. The Olympic Games are a fascinating event, bringing the world together to appreciate excellence in athletics. The numerous different events, countries, and people competing in the Olympic Games give ample material to analyze. Finding patterns and interesting information in this Olympic data will likely change the way we see the games in the future and make us think about the nature of sports in a new way. This project will also be challenging and help us develop our teamwork, communication, and data wrangling skills. <br>\n",
    "\n",
    "We are using 2 .csv files for our project. We have a main data set that is for the 2020 Summer Olympics in Tokyo. It includes data sorted by athlete name, with information on each athlete including age, country, sport, event, rank, and medal earned. The data set has multiple entries for each athlete as many athletes compete in multiple events. We have not decided how we are going to sort/filter the data for each individual athlete as they are each in the data set multiple times. We will use a 2016 Olympics in Rio De Janeiro data set to be able to determine if there were any repeat medalists and if there were more female or male medalists in 2016 vs. 2020. <br>\n",
    "\n",
    "<hr>\n",
    "\n",
    "We want to answer a few questions about the athletes that chose to compete in the 2016 and 2020 Summer Olympics:\n",
    "1. What is the average age of an Olympic athlete in 2016? 2020? Compare.\n",
    "   - Are there events that tend to have older compeditors? Meaning, is the mean age of athletes competing an a specific event greater than 30?<br>\n",
    "6. Who are the 5 oldest athletes and who are the 5 youngest athletes in 2020?\n",
    "   - What country are they from? <br>\n",
    "   - What sport do they compete in? What is the age distribution of their sport in 2020? <br>\n",
    "   - Did any of these athletes compete in 2016?\n",
    "   - Do any of them compete in the events that tend to have older compeditors?\n",
    "3. What are the top medaling countries in 2016? 2020? Compare. <br>\n",
    "4. Does the United States have more female or male medalists in 2020? <br>\n",
    "5. Which Olympic athlete has the most medals in 2016? 2020?\n",
    "   - Is it the same person each Olympics? Same event? <br>"
   ]
  },
  {
   "cell_type": "code",
   "execution_count": 2,
   "id": "3c8f7ebf",
   "metadata": {
    "scrolled": false
   },
   "outputs": [
    {
     "data": {
      "text/html": [
       "<div>\n",
       "<style scoped>\n",
       "    .dataframe tbody tr th:only-of-type {\n",
       "        vertical-align: middle;\n",
       "    }\n",
       "\n",
       "    .dataframe tbody tr th {\n",
       "        vertical-align: top;\n",
       "    }\n",
       "\n",
       "    .dataframe thead th {\n",
       "        text-align: right;\n",
       "    }\n",
       "</style>\n",
       "<table border=\"1\" class=\"dataframe\">\n",
       "  <thead>\n",
       "    <tr style=\"text-align: right;\">\n",
       "      <th></th>\n",
       "      <th>id</th>\n",
       "      <th>name</th>\n",
       "      <th>nationality</th>\n",
       "      <th>sex</th>\n",
       "      <th>dob</th>\n",
       "      <th>height</th>\n",
       "      <th>weight</th>\n",
       "      <th>sport</th>\n",
       "      <th>gold</th>\n",
       "      <th>silver</th>\n",
       "      <th>bronze</th>\n",
       "    </tr>\n",
       "  </thead>\n",
       "  <tbody>\n",
       "    <tr>\n",
       "      <th>0</th>\n",
       "      <td>736041664</td>\n",
       "      <td>A Jesus Garcia</td>\n",
       "      <td>ESP</td>\n",
       "      <td>male</td>\n",
       "      <td>10/17/69</td>\n",
       "      <td>1.72</td>\n",
       "      <td>64.0</td>\n",
       "      <td>athletics</td>\n",
       "      <td>0</td>\n",
       "      <td>0</td>\n",
       "      <td>0</td>\n",
       "    </tr>\n",
       "    <tr>\n",
       "      <th>1</th>\n",
       "      <td>532037425</td>\n",
       "      <td>A Lam Shin</td>\n",
       "      <td>KOR</td>\n",
       "      <td>female</td>\n",
       "      <td>9/23/86</td>\n",
       "      <td>1.68</td>\n",
       "      <td>56.0</td>\n",
       "      <td>fencing</td>\n",
       "      <td>0</td>\n",
       "      <td>0</td>\n",
       "      <td>0</td>\n",
       "    </tr>\n",
       "    <tr>\n",
       "      <th>2</th>\n",
       "      <td>435962603</td>\n",
       "      <td>Aaron Brown</td>\n",
       "      <td>CAN</td>\n",
       "      <td>male</td>\n",
       "      <td>5/27/92</td>\n",
       "      <td>1.98</td>\n",
       "      <td>79.0</td>\n",
       "      <td>athletics</td>\n",
       "      <td>0</td>\n",
       "      <td>0</td>\n",
       "      <td>1</td>\n",
       "    </tr>\n",
       "    <tr>\n",
       "      <th>3</th>\n",
       "      <td>521041435</td>\n",
       "      <td>Aaron Cook</td>\n",
       "      <td>MDA</td>\n",
       "      <td>male</td>\n",
       "      <td>1/2/91</td>\n",
       "      <td>1.83</td>\n",
       "      <td>80.0</td>\n",
       "      <td>taekwondo</td>\n",
       "      <td>0</td>\n",
       "      <td>0</td>\n",
       "      <td>0</td>\n",
       "    </tr>\n",
       "    <tr>\n",
       "      <th>4</th>\n",
       "      <td>33922579</td>\n",
       "      <td>Aaron Gate</td>\n",
       "      <td>NZL</td>\n",
       "      <td>male</td>\n",
       "      <td>11/26/90</td>\n",
       "      <td>1.81</td>\n",
       "      <td>71.0</td>\n",
       "      <td>cycling</td>\n",
       "      <td>0</td>\n",
       "      <td>0</td>\n",
       "      <td>0</td>\n",
       "    </tr>\n",
       "    <tr>\n",
       "      <th>...</th>\n",
       "      <td>...</td>\n",
       "      <td>...</td>\n",
       "      <td>...</td>\n",
       "      <td>...</td>\n",
       "      <td>...</td>\n",
       "      <td>...</td>\n",
       "      <td>...</td>\n",
       "      <td>...</td>\n",
       "      <td>...</td>\n",
       "      <td>...</td>\n",
       "      <td>...</td>\n",
       "    </tr>\n",
       "    <tr>\n",
       "      <th>11533</th>\n",
       "      <td>265605954</td>\n",
       "      <td>Zurian Hechavarria</td>\n",
       "      <td>CUB</td>\n",
       "      <td>female</td>\n",
       "      <td>8/10/95</td>\n",
       "      <td>1.64</td>\n",
       "      <td>58.0</td>\n",
       "      <td>athletics</td>\n",
       "      <td>0</td>\n",
       "      <td>0</td>\n",
       "      <td>0</td>\n",
       "    </tr>\n",
       "    <tr>\n",
       "      <th>11534</th>\n",
       "      <td>214461847</td>\n",
       "      <td>Zuzana Hejnova</td>\n",
       "      <td>CZE</td>\n",
       "      <td>female</td>\n",
       "      <td>12/19/86</td>\n",
       "      <td>1.73</td>\n",
       "      <td>63.0</td>\n",
       "      <td>athletics</td>\n",
       "      <td>0</td>\n",
       "      <td>0</td>\n",
       "      <td>0</td>\n",
       "    </tr>\n",
       "    <tr>\n",
       "      <th>11535</th>\n",
       "      <td>88361042</td>\n",
       "      <td>di Xiao</td>\n",
       "      <td>CHN</td>\n",
       "      <td>male</td>\n",
       "      <td>5/14/91</td>\n",
       "      <td>1.85</td>\n",
       "      <td>100.0</td>\n",
       "      <td>wrestling</td>\n",
       "      <td>0</td>\n",
       "      <td>0</td>\n",
       "      <td>0</td>\n",
       "    </tr>\n",
       "    <tr>\n",
       "      <th>11536</th>\n",
       "      <td>900065925</td>\n",
       "      <td>le Quoc Toan Tran</td>\n",
       "      <td>VIE</td>\n",
       "      <td>male</td>\n",
       "      <td>4/5/89</td>\n",
       "      <td>1.60</td>\n",
       "      <td>56.0</td>\n",
       "      <td>weightlifting</td>\n",
       "      <td>0</td>\n",
       "      <td>0</td>\n",
       "      <td>0</td>\n",
       "    </tr>\n",
       "    <tr>\n",
       "      <th>11537</th>\n",
       "      <td>711404576</td>\n",
       "      <td>le Roux Hamman</td>\n",
       "      <td>RSA</td>\n",
       "      <td>male</td>\n",
       "      <td>1/6/92</td>\n",
       "      <td>1.85</td>\n",
       "      <td>70.0</td>\n",
       "      <td>athletics</td>\n",
       "      <td>0</td>\n",
       "      <td>0</td>\n",
       "      <td>0</td>\n",
       "    </tr>\n",
       "  </tbody>\n",
       "</table>\n",
       "<p>11538 rows × 11 columns</p>\n",
       "</div>"
      ],
      "text/plain": [
       "              id                name nationality     sex       dob  height  \\\n",
       "0      736041664      A Jesus Garcia         ESP    male  10/17/69    1.72   \n",
       "1      532037425          A Lam Shin         KOR  female   9/23/86    1.68   \n",
       "2      435962603         Aaron Brown         CAN    male   5/27/92    1.98   \n",
       "3      521041435          Aaron Cook         MDA    male    1/2/91    1.83   \n",
       "4       33922579          Aaron Gate         NZL    male  11/26/90    1.81   \n",
       "...          ...                 ...         ...     ...       ...     ...   \n",
       "11533  265605954  Zurian Hechavarria         CUB  female   8/10/95    1.64   \n",
       "11534  214461847      Zuzana Hejnova         CZE  female  12/19/86    1.73   \n",
       "11535   88361042             di Xiao         CHN    male   5/14/91    1.85   \n",
       "11536  900065925   le Quoc Toan Tran         VIE    male    4/5/89    1.60   \n",
       "11537  711404576      le Roux Hamman         RSA    male    1/6/92    1.85   \n",
       "\n",
       "       weight          sport  gold  silver  bronze  \n",
       "0        64.0      athletics     0       0       0  \n",
       "1        56.0        fencing     0       0       0  \n",
       "2        79.0      athletics     0       0       1  \n",
       "3        80.0      taekwondo     0       0       0  \n",
       "4        71.0        cycling     0       0       0  \n",
       "...       ...            ...   ...     ...     ...  \n",
       "11533    58.0      athletics     0       0       0  \n",
       "11534    63.0      athletics     0       0       0  \n",
       "11535   100.0      wrestling     0       0       0  \n",
       "11536    56.0  weightlifting     0       0       0  \n",
       "11537    70.0      athletics     0       0       0  \n",
       "\n",
       "[11538 rows x 11 columns]"
      ]
     },
     "execution_count": 2,
     "metadata": {},
     "output_type": "execute_result"
    }
   ],
   "source": [
    "olympics2020 = pd.read_csv('https://raw.githubusercontent.com/bdavis12302/2020-2016-Summer-Olympic-Data/main/SummerOlympicDatasets/2020_Olympics_Dataset.csv', encoding='latin-1')\n",
    "olympics2016 = pd.read_csv('https://raw.githubusercontent.com/bdavis12302/2020-2016-Summer-Olympic-Data/main/SummerOlympicDatasets/2016_athletes.csv', encoding='latin-1')\n",
    "olympics2016"
   ]
  },
  {
   "cell_type": "markdown",
   "id": "ecc730a6",
   "metadata": {},
   "source": [
    "## *Note: The 2020 Summer Olympics were held in 2021 due to the Coronavirus Pandemic.*"
   ]
  },
  {
   "cell_type": "markdown",
   "id": "5d1e0b39",
   "metadata": {},
   "source": [
    "## Part 1: What is the average age of an Olympic athlete in 2016? 2020? Compare"
   ]
  },
  {
   "cell_type": "code",
   "execution_count": 3,
   "id": "41998ec0",
   "metadata": {},
   "outputs": [
    {
     "data": {
      "text/plain": [
       "26.765227167515377"
      ]
     },
     "execution_count": 3,
     "metadata": {},
     "output_type": "execute_result"
    }
   ],
   "source": [
    "avgAge20 = olympics2020['Age'].mean()\n",
    "avgAge20"
   ]
  },
  {
   "cell_type": "code",
   "execution_count": 4,
   "id": "0493f140",
   "metadata": {},
   "outputs": [
    {
     "data": {
      "text/plain": [
       "26.33974692321026"
      ]
     },
     "execution_count": 4,
     "metadata": {},
     "output_type": "execute_result"
    }
   ],
   "source": [
    "olympics2016.loc[8546,'dob'] = \"12/25/87\" #Had to Google this guy's birthday because it was missing from the dataset\n",
    "startDate2016 = pd.to_datetime(\"08/05/16\")\n",
    "\n",
    "olympics2016['dob'] = pd.to_datetime(olympics2016['dob'])\n",
    "olympics2016['dob'] = np.where(olympics2016['dob'].dt.year > 2022, olympics2016['dob'] - pd.offsets.DateOffset(years=100), olympics2016['dob'])\n",
    "# For some reason unknown, python decided that 2071 was somehow in the past, so we had to force it to go to 1971\n",
    "olympics2016['age'] = abs(olympics2016['dob'] - startDate2016)\n",
    "olympics2016['age'] = (np.floor((olympics2016['age'].dt.days)/365)).astype(int)\n",
    "avgAge16 = olympics2016['age'].mean()\n",
    "avgAge16"
   ]
  },
  {
   "cell_type": "markdown",
   "id": "4af041ec",
   "metadata": {},
   "source": [
    "### Are there events that tend to have older compeditors? "
   ]
  },
  {
   "cell_type": "code",
   "execution_count": 5,
   "id": "0d2a6a46",
   "metadata": {},
   "outputs": [
    {
     "name": "stdout",
     "output_type": "stream",
     "text": [
      "Sports with an average (mean) age that is greater than 30 in 2016: sport\n",
      "equestrian    37.261261\n",
      "shooting      31.369231\n",
      "Name: age, dtype: float64\n",
      "Sports with an average (mean) age that is greater than 30 in 2020: Sport\n",
      "Beach Volleyball    30.052083\n",
      "Equestrian          38.097619\n",
      "Shooting            30.097054\n",
      "Name: Age, dtype: float64\n"
     ]
    }
   ],
   "source": [
    "meanAgeSport2016 = olympics2016.groupby(\"sport\")[\"age\"].mean() # Graph this\n",
    "meanAgeSport2020 = olympics2020.groupby(\"Sport\")[\"Age\"].mean() # Graph this\n",
    "ageGT302016 = meanAgeSport2016[meanAgeSport2016 > 30]\n",
    "ageGT302020 = meanAgeSport2020[meanAgeSport2020 > 30]\n",
    "print(\"Sports with an average (mean) age that is greater than 30 in 2016:\", ageGT302016)\n",
    "print(\"Sports with an average (mean) age that is greater than 30 in 2020:\", ageGT302020)"
   ]
  },
  {
   "cell_type": "code",
   "execution_count": 6,
   "id": "33eb73f6",
   "metadata": {},
   "outputs": [
    {
     "data": {
      "image/png": "[encoded data removed]",
      "text/plain": [
       "<Figure size 432x288 with 1 Axes>"
      ]
     },
     "metadata": {
      "needs_background": "light"
     },
     "output_type": "display_data"
    }
   ],
   "source": [
    "%matplotlib inline\n",
    "num_bins=20\n",
    "plt.hist(meanAgeSport2020, num_bins, label='2020')\n",
    "plt.hist(meanAgeSport2016, num_bins, label='2016')\n",
    "# Graphed in this order so that the 2016 would sit on top of 2020.\n",
    "plt.legend(loc='upper right', fontsize='12');"
   ]
  },
  {
   "cell_type": "markdown",
   "id": "db57aa3a",
   "metadata": {},
   "source": [
    "## Part 2: Who are the 5 oldest athletes and who are the 5 youngest athletes in 2020?"
   ]
  },
  {
   "cell_type": "code",
   "execution_count": 11,
   "id": "956b8f50",
   "metadata": {},
   "outputs": [
    {
     "name": "stdout",
     "output_type": "stream",
     "text": [
      "The five oldest athletes in the 2016 summer olympics are:\n",
      "                  name       sport  age\n",
      "5299   Julie Brougham  equestrian   62\n",
      "7092       Mary Hanna  equestrian   61\n",
      "5045    John Whitaker  equestrian   61\n",
      "10185   Suzanne Hearn  equestrian   60\n",
      "6982        Mark Todd  equestrian   60 \n",
      "\n",
      "The five oldest athletes in the 2020 summer olympics are:\n",
      "                       Name       Sport  Age\n",
      "4979            HANNA Mary  Equestrian   66\n",
      "5506            HOY Andrew  Equestrian   62\n",
      "10490         PINTO Carlos  Equestrian   61\n",
      "4817        GULLIKSEN Geir  Equestrian   61\n",
      "7198   LANGE Santiago Raul     Sailing   59\n"
     ]
    }
   ],
   "source": [
    "olympics2020SortedByAgeNoDup = olympics2020.sort_values(by=\"Age\", ascending = False).drop_duplicates(subset=['Name'])\n",
    "olympics2016SortedByAgeNoDup = olympics2016.sort_values(by=\"age\", ascending = False)\n",
    "print(\"The five oldest athletes in the 2016 summer olympics are:\\n\", olympics2016SortedByAgeNoDup.loc[:,('name','sport','age')].head(5),'\\n')\n",
    "print(\"The five oldest athletes in the 2020 summer olympics are:\\n\", olympics2020SortedByAgeNoDup.loc[:,('Name','Sport','Age')].head(5))\n",
    "#TODO: Remove Duplicates for 2020, cause it's the same athlete..."
   ]
  },
  {
   "cell_type": "markdown",
   "id": "99c623aa",
   "metadata": {},
   "source": [
    "### Show the Age distribution of athletes in the 2016 and 2020 Summer Olympics'."
   ]
  },
  {
   "cell_type": "code",
   "execution_count": null,
   "id": "950fe87c",
   "metadata": {},
   "outputs": [],
   "source": [
    "olympics2016AgeSorted = olympics2016SortedByAge[\"age\"]\n",
    "olympics2016AgeSorted.plot.box(showfliers=False, title=\"Age distribution of athletes in the 2016 Summer Olympics\")"
   ]
  },
  {
   "cell_type": "code",
   "execution_count": null,
   "id": "705e6b8c",
   "metadata": {},
   "outputs": [],
   "source": [
    "olympics2020AgeSorted = olympics2020SortedByAge[\"Age\"]\n",
    "olympics2020AgeSorted.plot.box(showfliers=False, title=\"Age distribution of athletes in the 2020 Summer Olympics\")"
   ]
  },
  {
   "cell_type": "code",
   "execution_count": null,
   "id": "9e1a41d4",
   "metadata": {},
   "outputs": [],
   "source": []
  }
 ],
 "metadata": {
  "kernelspec": {
   "display_name": "Python 3 (ipykernel)",
   "language": "python",
   "name": "python3"
  },
  "language_info": {
   "codemirror_mode": {
    "name": "ipython",
    "version": 3
   },
   "file_extension": ".py",
   "mimetype": "text/x-python",
   "name": "python",
   "nbconvert_exporter": "python",
   "pygments_lexer": "ipython3",
   "version": "3.9.7"
  }
 },
 "nbformat": 4,
 "nbformat_minor": 5
}
