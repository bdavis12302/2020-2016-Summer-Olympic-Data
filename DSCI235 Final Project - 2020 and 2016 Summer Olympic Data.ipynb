{
 "cells": [
  {
   "cell_type": "code",
   "execution_count": 1,
   "id": "29575023",
   "metadata": {},
   "outputs": [
    {
     "data": {
      "application/javascript": [
       "IPython.notebook.set_autosave_interval(60000)"
      ]
     },
     "metadata": {},
     "output_type": "display_data"
    },
    {
     "name": "stdout",
     "output_type": "stream",
     "text": [
      "Autosaving every 60 seconds\n"
     ]
    }
   ],
   "source": [
    "import pandas as pd\n",
    "import numpy as np\n",
    "import matplotlib.pyplot as plt\n",
    "from datetime import datetime\n",
    "%autosave 60"
   ]
  },
  {
   "cell_type": "markdown",
   "id": "c25f2731",
   "metadata": {},
   "source": [
    "# DSCI 235 Final Project\n",
    "### By: Blake Davis\n",
    "\n",
    "Data Source 1: https://www.kaggle.com/datasets/aliaamiri/2020-summer-olympics-dataset?select=2020_Olympics_Dataset.csv <br>\n",
    "Data Source 2: https://www.kaggle.com/datasets/rio2016/olympic-games <br>\n",
    "GitHub: https://github.com/bdavis12302/2020-2016-Summer-Olympic-Data <br>\n",
    "\n",
    "## Project Description\n",
    "\n",
    "For this project, I am analyzing data from the Tokyo 2020 Olympics and the Rio 2016 Olympics. The Olympic Games are a fascinating event, bringing the world together to appreciate excellence in athletics. The numerous different events, countries, and people competing in the Olympic Games give ample material to analyze. Finding patterns and interesting information in this Olympic data will likely change the way we see the games in the future and make us think about the nature of sports in a new way. This project will also be challenging and help us develop our teamwork, communication, and data wrangling skills. <br>\n",
    "\n",
    "I am using 2 .csv files for our project. I have a main data set that is for the 2020 Summer Olympics in Tokyo. It includes data sorted by athlete name, with information on each athlete including age, country, sport, event, rank, and medal earned. The data set has multiple entries for each athlete as many athletes compete in multiple events. I have not decided how I am going to sort/filter the data for each individual athlete as they are each in the data set multiple times. I will use a 2016 Olympics in Rio De Janeiro data set to be able to determine if there were any repeat medalists and if there were more female or male medalists in 2016 vs. 2020. <br>\n",
    "\n",
    "<hr>\n",
    "\n",
    "I want to answer a few questions about the athletes that chose to compete in the 2016 and 2020 Summer Olympics:\n",
    "1. What is the average age of an Olympic athlete in 2016? 2020? Compare.\n",
    "   - Are there events that tend to have older competitors? Meaning, is the mean age of athletes competing in a specific event greater than 30?<br>\n",
    "6. Who are the 5 oldest athletes and who are the 5 youngest athletes in 2016 and 2020?\n",
    "   - What country are they from? <br>\n",
    "   - What sport do they compete in? <br>\n",
    "   - What does the age distribution of their sport in 2016 and 2020 look like, if available? <br>\n",
    "   - Do any of them compete in the events that tend to have younger or older competitors, respectively? <br>\n",
    "   - Did any of these athletes compete in 2016 and 2020?\n",
    "5. Which Olympic athlete has the most medals in 2016? <br>\n",
    "3. What are the top medaling countries in 2016? 2020? Compare.\n",
    "4. Does the United States have more female or male medalists in 2020?\n",
    "   - What is the average age of United States Male Medalists? Of United States Female Medalists? Of All United States Medalists?\n"
   ]
  },
  {
   "cell_type": "code",
   "execution_count": 2,
   "id": "3c8f7ebf",
   "metadata": {
    "scrolled": false
   },
   "outputs": [
    {
     "data": {
      "text/html": [
       "<div>\n",
       "<style scoped>\n",
       "    .dataframe tbody tr th:only-of-type {\n",
       "        vertical-align: middle;\n",
       "    }\n",
       "\n",
       "    .dataframe tbody tr th {\n",
       "        vertical-align: top;\n",
       "    }\n",
       "\n",
       "    .dataframe thead th {\n",
       "        text-align: right;\n",
       "    }\n",
       "</style>\n",
       "<table border=\"1\" class=\"dataframe\">\n",
       "  <thead>\n",
       "    <tr style=\"text-align: right;\">\n",
       "      <th></th>\n",
       "      <th>id</th>\n",
       "      <th>name</th>\n",
       "      <th>nationality</th>\n",
       "      <th>sex</th>\n",
       "      <th>dob</th>\n",
       "      <th>height</th>\n",
       "      <th>weight</th>\n",
       "      <th>sport</th>\n",
       "      <th>gold</th>\n",
       "      <th>silver</th>\n",
       "      <th>bronze</th>\n",
       "    </tr>\n",
       "  </thead>\n",
       "  <tbody>\n",
       "    <tr>\n",
       "      <th>0</th>\n",
       "      <td>736041664</td>\n",
       "      <td>A Jesus Garcia</td>\n",
       "      <td>ESP</td>\n",
       "      <td>male</td>\n",
       "      <td>10/17/69</td>\n",
       "      <td>1.72</td>\n",
       "      <td>64.0</td>\n",
       "      <td>athletics</td>\n",
       "      <td>0</td>\n",
       "      <td>0</td>\n",
       "      <td>0</td>\n",
       "    </tr>\n",
       "    <tr>\n",
       "      <th>1</th>\n",
       "      <td>532037425</td>\n",
       "      <td>A Lam Shin</td>\n",
       "      <td>KOR</td>\n",
       "      <td>female</td>\n",
       "      <td>9/23/86</td>\n",
       "      <td>1.68</td>\n",
       "      <td>56.0</td>\n",
       "      <td>fencing</td>\n",
       "      <td>0</td>\n",
       "      <td>0</td>\n",
       "      <td>0</td>\n",
       "    </tr>\n",
       "    <tr>\n",
       "      <th>2</th>\n",
       "      <td>435962603</td>\n",
       "      <td>Aaron Brown</td>\n",
       "      <td>CAN</td>\n",
       "      <td>male</td>\n",
       "      <td>5/27/92</td>\n",
       "      <td>1.98</td>\n",
       "      <td>79.0</td>\n",
       "      <td>athletics</td>\n",
       "      <td>0</td>\n",
       "      <td>0</td>\n",
       "      <td>1</td>\n",
       "    </tr>\n",
       "    <tr>\n",
       "      <th>3</th>\n",
       "      <td>521041435</td>\n",
       "      <td>Aaron Cook</td>\n",
       "      <td>MDA</td>\n",
       "      <td>male</td>\n",
       "      <td>1/2/91</td>\n",
       "      <td>1.83</td>\n",
       "      <td>80.0</td>\n",
       "      <td>taekwondo</td>\n",
       "      <td>0</td>\n",
       "      <td>0</td>\n",
       "      <td>0</td>\n",
       "    </tr>\n",
       "    <tr>\n",
       "      <th>4</th>\n",
       "      <td>33922579</td>\n",
       "      <td>Aaron Gate</td>\n",
       "      <td>NZL</td>\n",
       "      <td>male</td>\n",
       "      <td>11/26/90</td>\n",
       "      <td>1.81</td>\n",
       "      <td>71.0</td>\n",
       "      <td>cycling</td>\n",
       "      <td>0</td>\n",
       "      <td>0</td>\n",
       "      <td>0</td>\n",
       "    </tr>\n",
       "    <tr>\n",
       "      <th>...</th>\n",
       "      <td>...</td>\n",
       "      <td>...</td>\n",
       "      <td>...</td>\n",
       "      <td>...</td>\n",
       "      <td>...</td>\n",
       "      <td>...</td>\n",
       "      <td>...</td>\n",
       "      <td>...</td>\n",
       "      <td>...</td>\n",
       "      <td>...</td>\n",
       "      <td>...</td>\n",
       "    </tr>\n",
       "    <tr>\n",
       "      <th>11533</th>\n",
       "      <td>265605954</td>\n",
       "      <td>Zurian Hechavarria</td>\n",
       "      <td>CUB</td>\n",
       "      <td>female</td>\n",
       "      <td>8/10/95</td>\n",
       "      <td>1.64</td>\n",
       "      <td>58.0</td>\n",
       "      <td>athletics</td>\n",
       "      <td>0</td>\n",
       "      <td>0</td>\n",
       "      <td>0</td>\n",
       "    </tr>\n",
       "    <tr>\n",
       "      <th>11534</th>\n",
       "      <td>214461847</td>\n",
       "      <td>Zuzana Hejnova</td>\n",
       "      <td>CZE</td>\n",
       "      <td>female</td>\n",
       "      <td>12/19/86</td>\n",
       "      <td>1.73</td>\n",
       "      <td>63.0</td>\n",
       "      <td>athletics</td>\n",
       "      <td>0</td>\n",
       "      <td>0</td>\n",
       "      <td>0</td>\n",
       "    </tr>\n",
       "    <tr>\n",
       "      <th>11535</th>\n",
       "      <td>88361042</td>\n",
       "      <td>di Xiao</td>\n",
       "      <td>CHN</td>\n",
       "      <td>male</td>\n",
       "      <td>5/14/91</td>\n",
       "      <td>1.85</td>\n",
       "      <td>100.0</td>\n",
       "      <td>wrestling</td>\n",
       "      <td>0</td>\n",
       "      <td>0</td>\n",
       "      <td>0</td>\n",
       "    </tr>\n",
       "    <tr>\n",
       "      <th>11536</th>\n",
       "      <td>900065925</td>\n",
       "      <td>le Quoc Toan Tran</td>\n",
       "      <td>VIE</td>\n",
       "      <td>male</td>\n",
       "      <td>4/5/89</td>\n",
       "      <td>1.60</td>\n",
       "      <td>56.0</td>\n",
       "      <td>weightlifting</td>\n",
       "      <td>0</td>\n",
       "      <td>0</td>\n",
       "      <td>0</td>\n",
       "    </tr>\n",
       "    <tr>\n",
       "      <th>11537</th>\n",
       "      <td>711404576</td>\n",
       "      <td>le Roux Hamman</td>\n",
       "      <td>RSA</td>\n",
       "      <td>male</td>\n",
       "      <td>1/6/92</td>\n",
       "      <td>1.85</td>\n",
       "      <td>70.0</td>\n",
       "      <td>athletics</td>\n",
       "      <td>0</td>\n",
       "      <td>0</td>\n",
       "      <td>0</td>\n",
       "    </tr>\n",
       "  </tbody>\n",
       "</table>\n",
       "<p>11538 rows × 11 columns</p>\n",
       "</div>"
      ],
      "text/plain": [
       "              id                name nationality     sex       dob  height  \\\n",
       "0      736041664      A Jesus Garcia         ESP    male  10/17/69    1.72   \n",
       "1      532037425          A Lam Shin         KOR  female   9/23/86    1.68   \n",
       "2      435962603         Aaron Brown         CAN    male   5/27/92    1.98   \n",
       "3      521041435          Aaron Cook         MDA    male    1/2/91    1.83   \n",
       "4       33922579          Aaron Gate         NZL    male  11/26/90    1.81   \n",
       "...          ...                 ...         ...     ...       ...     ...   \n",
       "11533  265605954  Zurian Hechavarria         CUB  female   8/10/95    1.64   \n",
       "11534  214461847      Zuzana Hejnova         CZE  female  12/19/86    1.73   \n",
       "11535   88361042             di Xiao         CHN    male   5/14/91    1.85   \n",
       "11536  900065925   le Quoc Toan Tran         VIE    male    4/5/89    1.60   \n",
       "11537  711404576      le Roux Hamman         RSA    male    1/6/92    1.85   \n",
       "\n",
       "       weight          sport  gold  silver  bronze  \n",
       "0        64.0      athletics     0       0       0  \n",
       "1        56.0        fencing     0       0       0  \n",
       "2        79.0      athletics     0       0       1  \n",
       "3        80.0      taekwondo     0       0       0  \n",
       "4        71.0        cycling     0       0       0  \n",
       "...       ...            ...   ...     ...     ...  \n",
       "11533    58.0      athletics     0       0       0  \n",
       "11534    63.0      athletics     0       0       0  \n",
       "11535   100.0      wrestling     0       0       0  \n",
       "11536    56.0  weightlifting     0       0       0  \n",
       "11537    70.0      athletics     0       0       0  \n",
       "\n",
       "[11538 rows x 11 columns]"
      ]
     },
     "metadata": {},
     "output_type": "display_data"
    },
    {
     "data": {
      "text/html": [
       "<div>\n",
       "<style scoped>\n",
       "    .dataframe tbody tr th:only-of-type {\n",
       "        vertical-align: middle;\n",
       "    }\n",
       "\n",
       "    .dataframe tbody tr th {\n",
       "        vertical-align: top;\n",
       "    }\n",
       "\n",
       "    .dataframe thead th {\n",
       "        text-align: right;\n",
       "    }\n",
       "</style>\n",
       "<table border=\"1\" class=\"dataframe\">\n",
       "  <thead>\n",
       "    <tr style=\"text-align: right;\">\n",
       "      <th></th>\n",
       "      <th>Unnamed: 0</th>\n",
       "      <th>Code</th>\n",
       "      <th>Name</th>\n",
       "      <th>Gender</th>\n",
       "      <th>Age</th>\n",
       "      <th>NOC</th>\n",
       "      <th>Country</th>\n",
       "      <th>Discipline</th>\n",
       "      <th>Sport</th>\n",
       "      <th>Event</th>\n",
       "      <th>Rank</th>\n",
       "      <th>Medal</th>\n",
       "    </tr>\n",
       "  </thead>\n",
       "  <tbody>\n",
       "    <tr>\n",
       "      <th>0</th>\n",
       "      <td>1</td>\n",
       "      <td>1346266</td>\n",
       "      <td>AALERUD Katrine</td>\n",
       "      <td>Female</td>\n",
       "      <td>26</td>\n",
       "      <td>NOR</td>\n",
       "      <td>Norway</td>\n",
       "      <td>CRD</td>\n",
       "      <td>Cycling Road</td>\n",
       "      <td>Women's Road Race</td>\n",
       "      <td>37.0</td>\n",
       "      <td>NaN</td>\n",
       "    </tr>\n",
       "    <tr>\n",
       "      <th>1</th>\n",
       "      <td>2</td>\n",
       "      <td>1346266</td>\n",
       "      <td>AALERUD Katrine</td>\n",
       "      <td>Female</td>\n",
       "      <td>26</td>\n",
       "      <td>NOR</td>\n",
       "      <td>Norway</td>\n",
       "      <td>CRD</td>\n",
       "      <td>Cycling Road</td>\n",
       "      <td>Women's Individual Time Trial</td>\n",
       "      <td>20.0</td>\n",
       "      <td>NaN</td>\n",
       "    </tr>\n",
       "    <tr>\n",
       "      <th>2</th>\n",
       "      <td>3</td>\n",
       "      <td>1355250</td>\n",
       "      <td>ABAD Nestor</td>\n",
       "      <td>Male</td>\n",
       "      <td>28</td>\n",
       "      <td>ESP</td>\n",
       "      <td>Spain</td>\n",
       "      <td>GAR</td>\n",
       "      <td>Artistic Gymnastics</td>\n",
       "      <td>Men's All-Around</td>\n",
       "      <td>NaN</td>\n",
       "      <td>NaN</td>\n",
       "    </tr>\n",
       "    <tr>\n",
       "      <th>3</th>\n",
       "      <td>4</td>\n",
       "      <td>1355250</td>\n",
       "      <td>ABAD Nestor</td>\n",
       "      <td>Male</td>\n",
       "      <td>28</td>\n",
       "      <td>ESP</td>\n",
       "      <td>Spain</td>\n",
       "      <td>GAR</td>\n",
       "      <td>Artistic Gymnastics</td>\n",
       "      <td>Men's Floor Exercise</td>\n",
       "      <td>NaN</td>\n",
       "      <td>NaN</td>\n",
       "    </tr>\n",
       "    <tr>\n",
       "      <th>4</th>\n",
       "      <td>5</td>\n",
       "      <td>1355250</td>\n",
       "      <td>ABAD Nestor</td>\n",
       "      <td>Male</td>\n",
       "      <td>28</td>\n",
       "      <td>ESP</td>\n",
       "      <td>Spain</td>\n",
       "      <td>GAR</td>\n",
       "      <td>Artistic Gymnastics</td>\n",
       "      <td>Men's Pommel Horse</td>\n",
       "      <td>NaN</td>\n",
       "      <td>NaN</td>\n",
       "    </tr>\n",
       "    <tr>\n",
       "      <th>...</th>\n",
       "      <td>...</td>\n",
       "      <td>...</td>\n",
       "      <td>...</td>\n",
       "      <td>...</td>\n",
       "      <td>...</td>\n",
       "      <td>...</td>\n",
       "      <td>...</td>\n",
       "      <td>...</td>\n",
       "      <td>...</td>\n",
       "      <td>...</td>\n",
       "      <td>...</td>\n",
       "      <td>...</td>\n",
       "    </tr>\n",
       "    <tr>\n",
       "      <th>15116</th>\n",
       "      <td>15117</td>\n",
       "      <td>1317127</td>\n",
       "      <td>ZWOLINSKA Klaudia</td>\n",
       "      <td>Female</td>\n",
       "      <td>22</td>\n",
       "      <td>POL</td>\n",
       "      <td>Poland</td>\n",
       "      <td>CSL</td>\n",
       "      <td>Canoe Slalom</td>\n",
       "      <td>Women's Kayak</td>\n",
       "      <td>5.0</td>\n",
       "      <td>NaN</td>\n",
       "    </tr>\n",
       "    <tr>\n",
       "      <th>15117</th>\n",
       "      <td>15118</td>\n",
       "      <td>1428770</td>\n",
       "      <td>ZYKOVA Yulia</td>\n",
       "      <td>Female</td>\n",
       "      <td>25</td>\n",
       "      <td>ROC</td>\n",
       "      <td>Russia</td>\n",
       "      <td>SHO</td>\n",
       "      <td>Shooting</td>\n",
       "      <td>50m Rifle 3 Positions Women</td>\n",
       "      <td>2.0</td>\n",
       "      <td>Silver</td>\n",
       "    </tr>\n",
       "    <tr>\n",
       "      <th>15118</th>\n",
       "      <td>15119</td>\n",
       "      <td>1435606</td>\n",
       "      <td>ZYUZINA Ekaterina</td>\n",
       "      <td>Female</td>\n",
       "      <td>24</td>\n",
       "      <td>ROC</td>\n",
       "      <td>Russia</td>\n",
       "      <td>SAL</td>\n",
       "      <td>Sailing</td>\n",
       "      <td>Women's One Person Dinghy - Laser Radial</td>\n",
       "      <td>27.0</td>\n",
       "      <td>NaN</td>\n",
       "    </tr>\n",
       "    <tr>\n",
       "      <th>15119</th>\n",
       "      <td>15120</td>\n",
       "      <td>1325697</td>\n",
       "      <td>ZYZANSKA Sylwia</td>\n",
       "      <td>Female</td>\n",
       "      <td>24</td>\n",
       "      <td>POL</td>\n",
       "      <td>Poland</td>\n",
       "      <td>ARC</td>\n",
       "      <td>Archery</td>\n",
       "      <td>Women's Individual</td>\n",
       "      <td>33.0</td>\n",
       "      <td>NaN</td>\n",
       "    </tr>\n",
       "    <tr>\n",
       "      <th>15120</th>\n",
       "      <td>15121</td>\n",
       "      <td>1325697</td>\n",
       "      <td>ZYZANSKA Sylwia</td>\n",
       "      <td>Female</td>\n",
       "      <td>24</td>\n",
       "      <td>POL</td>\n",
       "      <td>Poland</td>\n",
       "      <td>ARC</td>\n",
       "      <td>Archery</td>\n",
       "      <td>Mixed Team</td>\n",
       "      <td>24.0</td>\n",
       "      <td>NaN</td>\n",
       "    </tr>\n",
       "  </tbody>\n",
       "</table>\n",
       "<p>15121 rows × 12 columns</p>\n",
       "</div>"
      ],
      "text/plain": [
       "       Unnamed: 0     Code               Name  Gender  Age  NOC Country  \\\n",
       "0               1  1346266    AALERUD Katrine  Female   26  NOR  Norway   \n",
       "1               2  1346266    AALERUD Katrine  Female   26  NOR  Norway   \n",
       "2               3  1355250        ABAD Nestor    Male   28  ESP   Spain   \n",
       "3               4  1355250        ABAD Nestor    Male   28  ESP   Spain   \n",
       "4               5  1355250        ABAD Nestor    Male   28  ESP   Spain   \n",
       "...           ...      ...                ...     ...  ...  ...     ...   \n",
       "15116       15117  1317127  ZWOLINSKA Klaudia  Female   22  POL  Poland   \n",
       "15117       15118  1428770       ZYKOVA Yulia  Female   25  ROC  Russia   \n",
       "15118       15119  1435606  ZYUZINA Ekaterina  Female   24  ROC  Russia   \n",
       "15119       15120  1325697    ZYZANSKA Sylwia  Female   24  POL  Poland   \n",
       "15120       15121  1325697    ZYZANSKA Sylwia  Female   24  POL  Poland   \n",
       "\n",
       "      Discipline                Sport  \\\n",
       "0            CRD         Cycling Road   \n",
       "1            CRD         Cycling Road   \n",
       "2            GAR  Artistic Gymnastics   \n",
       "3            GAR  Artistic Gymnastics   \n",
       "4            GAR  Artistic Gymnastics   \n",
       "...          ...                  ...   \n",
       "15116        CSL         Canoe Slalom   \n",
       "15117        SHO             Shooting   \n",
       "15118        SAL              Sailing   \n",
       "15119        ARC              Archery   \n",
       "15120        ARC              Archery   \n",
       "\n",
       "                                          Event  Rank   Medal  \n",
       "0                             Women's Road Race  37.0     NaN  \n",
       "1                 Women's Individual Time Trial  20.0     NaN  \n",
       "2                              Men's All-Around   NaN     NaN  \n",
       "3                          Men's Floor Exercise   NaN     NaN  \n",
       "4                            Men's Pommel Horse   NaN     NaN  \n",
       "...                                         ...   ...     ...  \n",
       "15116                             Women's Kayak   5.0     NaN  \n",
       "15117               50m Rifle 3 Positions Women   2.0  Silver  \n",
       "15118  Women's One Person Dinghy - Laser Radial  27.0     NaN  \n",
       "15119                        Women's Individual  33.0     NaN  \n",
       "15120                                Mixed Team  24.0     NaN  \n",
       "\n",
       "[15121 rows x 12 columns]"
      ]
     },
     "metadata": {},
     "output_type": "display_data"
    }
   ],
   "source": [
    "olympics2020 = pd.read_csv('https://raw.githubusercontent.com/bdavis12302/2020-2016-Summer-Olympic-Data/main/SummerOlympicDatasets/2020_Olympics_Dataset.csv', encoding='latin-1')\n",
    "olympics2016 = pd.read_csv('https://raw.githubusercontent.com/bdavis12302/2020-2016-Summer-Olympic-Data/main/SummerOlympicDatasets/2016_athletes.csv', encoding='latin-1')\n",
    "display(olympics2016, olympics2020)"
   ]
  },
  {
   "cell_type": "markdown",
   "id": "ecc730a6",
   "metadata": {},
   "source": [
    "## *Note: The 2020 Summer Olympics were held in 2021 due to the Coronavirus Pandemic.*"
   ]
  },
  {
   "cell_type": "markdown",
   "id": "5d1e0b39",
   "metadata": {},
   "source": [
    "## Part 1: What is the average age of an Olympic athlete in 2016? 2020? Compare"
   ]
  },
  {
   "cell_type": "code",
   "execution_count": 3,
   "id": "41998ec0",
   "metadata": {},
   "outputs": [
    {
     "data": {
      "text/plain": [
       "26.765227167515377"
      ]
     },
     "execution_count": 3,
     "metadata": {},
     "output_type": "execute_result"
    }
   ],
   "source": [
    "avgAge20 = olympics2020['Age'].mean()\n",
    "avgAge20"
   ]
  },
  {
   "cell_type": "code",
   "execution_count": 4,
   "id": "0493f140",
   "metadata": {},
   "outputs": [
    {
     "data": {
      "text/plain": [
       "26.33974692321026"
      ]
     },
     "execution_count": 4,
     "metadata": {},
     "output_type": "execute_result"
    }
   ],
   "source": [
    "olympics2016.loc[8546,'dob'] = \"12/25/87\" #Had to Google this guy's birthday because it was missing from the dataset\n",
    "startDate2016 = pd.to_datetime(\"08/05/16\")\n",
    "\n",
    "olympics2016['dob'] = pd.to_datetime(olympics2016['dob'])\n",
    "olympics2016['dob'] = np.where(olympics2016['dob'].dt.year > 2022, olympics2016['dob'] - pd.offsets.DateOffset(years=100), olympics2016['dob'])\n",
    "# For some reason unknown, python decided that 2071 was somehow in the past, so we had to force it to go to 1971\n",
    "olympics2016['age'] = abs(olympics2016['dob'] - startDate2016)\n",
    "olympics2016['age'] = (np.floor((olympics2016['age'].dt.days)/365)).astype(int)\n",
    "avgAge16 = olympics2016['age'].mean()\n",
    "avgAge16"
   ]
  },
  {
   "cell_type": "markdown",
   "id": "4af041ec",
   "metadata": {},
   "source": [
    "### Are there events that tend to have older competitors? <br> Meaning, is the mean age of athletes competing in a specific event greater than 30? Greater than 28?"
   ]
  },
  {
   "cell_type": "code",
   "execution_count": 5,
   "id": "0d2a6a46",
   "metadata": {},
   "outputs": [
    {
     "name": "stdout",
     "output_type": "stream",
     "text": [
      "Sports with an average (mean) age that is greater than 30 in 2016: sport\n",
      "equestrian    37.261261\n",
      "shooting      31.369231\n",
      "Name: age, dtype: float64\n",
      "Sports with an average (mean) age that is greater than 30 in 2020: Sport\n",
      "Beach Volleyball    30.052083\n",
      "Equestrian          38.097619\n",
      "Shooting            30.097054\n",
      "Name: Age, dtype: float64\n"
     ]
    }
   ],
   "source": [
    "meanAgeSport2016 = olympics2016.groupby(\"sport\")[\"age\"].mean()\n",
    "meanAgeSport2020 = olympics2020.groupby(\"Sport\")[\"Age\"].mean()\n",
    "ageGT302016 = meanAgeSport2016[meanAgeSport2016 > 30]\n",
    "ageGT302020 = meanAgeSport2020[meanAgeSport2020 > 30]\n",
    "print(\"Sports with an average (mean) age that is greater than 30 in 2016:\", ageGT302016)\n",
    "print(\"Sports with an average (mean) age that is greater than 30 in 2020:\", ageGT302020)"
   ]
  },
  {
   "cell_type": "code",
   "execution_count": 6,
   "id": "b2d34cc9",
   "metadata": {},
   "outputs": [
    {
     "name": "stdout",
     "output_type": "stream",
     "text": [
      "Sports with an average (mean) age that is greater than 28 in 2016: sport\n",
      "equestrian    37.261261\n",
      "golf          29.591667\n",
      "shooting      31.369231\n",
      "tennis        28.066327\n",
      "Name: age, dtype: float64\n",
      "Sports with an average (mean) age that is greater than 28 in 2020: Sport\n",
      "3x3 Basketball           28.437500\n",
      "Baseball/Softball        29.051282\n",
      "Beach Volleyball         30.052083\n",
      "Cycling Mountain Bike    28.421053\n",
      "Cycling Road             28.803089\n",
      "Equestrian               38.097619\n",
      "Fencing                  28.088305\n",
      "Golf                     28.200000\n",
      "Handball                 28.649457\n",
      "Karate                   28.012346\n",
      "Sailing                  28.860000\n",
      "Shooting                 30.097054\n",
      "Table Tennis             29.068441\n",
      "Tennis                   28.434483\n",
      "Triathlon                28.730769\n",
      "Name: Age, dtype: float64\n"
     ]
    }
   ],
   "source": [
    "meanAgeSport2016 = olympics2016.groupby(\"sport\")[\"age\"].mean()\n",
    "meanAgeSport2020 = olympics2020.groupby(\"Sport\")[\"Age\"].mean()\n",
    "ageGT282016 = meanAgeSport2016[meanAgeSport2016 > 28]\n",
    "ageGT282020 = meanAgeSport2020[meanAgeSport2020 > 28]\n",
    "print(\"Sports with an average (mean) age that is greater than 28 in 2016:\", ageGT282016)\n",
    "print(\"Sports with an average (mean) age that is greater than 28 in 2020:\", ageGT282020)"
   ]
  },
  {
   "cell_type": "code",
   "execution_count": 7,
   "id": "33eb73f6",
   "metadata": {},
   "outputs": [
    {
     "data": {
      "image/png": "[encoded data removed]",
      "text/plain": [
       "<Figure size 432x288 with 1 Axes>"
      ]
     },
     "metadata": {
      "needs_background": "light"
     },
     "output_type": "display_data"
    }
   ],
   "source": [
    "%matplotlib inline\n",
    "num_bins=20\n",
    "plt.hist(meanAgeSport2020, num_bins, label='2020')\n",
    "plt.hist(meanAgeSport2016, num_bins, label='2016')\n",
    "# Graphed in this order so that the 2016 would sit on top of 2020.\n",
    "plt.legend(loc='upper right', fontsize='12');"
   ]
  },
  {
   "cell_type": "markdown",
   "id": "2e3d2bb2",
   "metadata": {},
   "source": [
    "### Results:"
   ]
  },
  {
   "cell_type": "markdown",
   "id": "2d388741",
   "metadata": {},
   "source": [
    " - The average age for the athletes competing in the 2016 and 2020 Summer Olympics is approximately 26 years of age. There are a few sports that have an average age that is a bit older. <br>\n",
    "\n",
    " - There are 2 sports in 2016 that have an average age of 30 and above. In 2016, the two sports are Equestrian and Shooting. There are 3 sports with an average age of 30 and above in 2020, which are Beach Volleyball, Equestrian, and Shooting. We can deduce that Equestrian and Shooting are two sports that may generally have older competitors as they have an average age of 30 or above. <br>\n",
    "\n",
    " - You can also see that if we look at the sports that include competitors with an average age of 28 or greater, there are a lot more events returned. This makes sense as 28 is closer to the mean age of 26, than 30. <br>\n",
    " \n",
    " - We can see from the graph above that both the 2016 and 2020 Summer Olympics both have a mean age around 26 years of age, matching what was calculated above. Both graphs are right skewed.\n",
    " \n",
    " - We can also see from the graph that a lot more events in 2020 have an average age greater than 28."
   ]
  },
  {
   "cell_type": "markdown",
   "id": "db57aa3a",
   "metadata": {},
   "source": [
    "## Part 2: Who are the 5 oldest athletes and who are the 5 youngest athletes in 2020?\n",
    "### What country are these athletes from?"
   ]
  },
  {
   "cell_type": "code",
   "execution_count": 8,
   "id": "956b8f50",
   "metadata": {},
   "outputs": [
    {
     "name": "stdout",
     "output_type": "stream",
     "text": [
      "The five youngest athletes and their countries in the 2016 summer olympics are:\n",
      "                        name     sport nationality  age\n",
      "654        Ana Iulia Dascal  aquatics         ROU   13\n",
      "3598          Gaurika Singh  aquatics         NEP   13\n",
      "10433           Thint Myaat  aquatics         MYA   14\n",
      "9918   Siri Arun Budcharern  aquatics         LAO   14\n",
      "715      Anastasiya Tyurina  aquatics         TJK   14 \n",
      "\n",
      "The five youngest athletes and their countries in the 2020 summer olympics are:\n",
      "                  Name          Sport        Country  Age\n",
      "5324    HIRAKI Kokona  Skateboarding          Japan   12\n",
      "14944       ZAZA Hend   Table Tennis          Syria   12\n",
      "9549   NISHIYA Momiji  Skateboarding          Japan   13\n",
      "1764        BROWN Sky  Skateboarding  Great Britain   13\n",
      "7294      LEAL Rayssa  Skateboarding         Brazil   13 \n",
      "\n",
      "The five oldest athletes and their countries in the 2016 summer olympics are:\n",
      "                  name       sport nationality  age\n",
      "10185   Suzanne Hearn  equestrian         AUS   60\n",
      "6982        Mark Todd  equestrian         NZL   60\n",
      "7092       Mary Hanna  equestrian         AUS   61\n",
      "5045    John Whitaker  equestrian         GBR   61\n",
      "5299   Julie Brougham  equestrian         NZL   62 \n",
      "\n",
      "The five oldest athletes and their countries in the 2020 summer olympics are:\n",
      "                      Name       Sport    Country  Age\n",
      "9952   OUADDAR Abdelkebir  Equestrian    Morocco   59\n",
      "10489        PINTO Carlos  Equestrian   Portugal   61\n",
      "4817       GULLIKSEN Geir  Equestrian     Norway   61\n",
      "5506           HOY Andrew  Equestrian  Australia   62\n",
      "4980           HANNA Mary  Equestrian  Australia   66\n"
     ]
    }
   ],
   "source": [
    "olympics2020SortedByAgeNoDup = olympics2020.sort_values(by=\"Age\", ascending = True).drop_duplicates(subset=['Name'])\n",
    "olympics2016SortedByAgeNoDup = olympics2016.sort_values(by=\"age\", ascending = True)\n",
    "olympics2016Young5 = olympics2016SortedByAgeNoDup.loc[:,('name','sport','nationality','age')].head(5)\n",
    "olympics2016Old5 = olympics2016SortedByAgeNoDup.loc[:,('name','sport','nationality','age')].tail(5)\n",
    "olympics2020Young5 = olympics2020SortedByAgeNoDup.loc[:,('Name','Sport','Country','Age',)].head(5)\n",
    "olympics2020Old5 = olympics2020SortedByAgeNoDup.loc[:,('Name','Sport','Country','Age',)].tail(5)\n",
    "print(\"The five youngest athletes and their countries in the 2016 summer olympics are:\\n\", olympics2016Young5,'\\n')\n",
    "print(\"The five youngest athletes and their countries in the 2020 summer olympics are:\\n\", olympics2020Young5,'\\n')\n",
    "print(\"The five oldest athletes and their countries in the 2016 summer olympics are:\\n\", olympics2016Old5,'\\n')\n",
    "print(\"The five oldest athletes and their countries in the 2020 summer olympics are:\\n\", olympics2020Old5)"
   ]
  },
  {
   "cell_type": "markdown",
   "id": "193da05b",
   "metadata": {},
   "source": [
    "AUS - Australia<br>\n",
    "GBR -> Great Britain<br>\n",
    "LAO - Laos<br>\n",
    "MYA -> Myanmar<br>\n",
    "NEP -> Nepal<br>\n",
    "NZL -> New Zealand<br>\n",
    "TJK -> Tajikistan<br>\n",
    "ROU -> Romania"
   ]
  },
  {
   "cell_type": "markdown",
   "id": "a0a31e19",
   "metadata": {},
   "source": [
    "*Note: The country abbreviation codes are labeled/identified above for convenience.*"
   ]
  },
  {
   "cell_type": "markdown",
   "id": "420c1547",
   "metadata": {},
   "source": [
    "*Note:* These are the top 5 youngest and oldest athletes based on age and then sorted by some secondary factor. <br> I used the top 5 rows once it was sorted by age."
   ]
  },
  {
   "cell_type": "markdown",
   "id": "87570598",
   "metadata": {},
   "source": [
    "We can see above that these athletes, both young and old, come from a variety of different countries. We can see some patterns in the events that these athletes compete in, that is what we are going to look at next!"
   ]
  },
  {
   "cell_type": "markdown",
   "id": "99c623aa",
   "metadata": {},
   "source": [
    "### Age distribution of all athletes in the 2016 and 2020 Summer Olympics."
   ]
  },
  {
   "cell_type": "code",
   "execution_count": 9,
   "id": "950fe87c",
   "metadata": {},
   "outputs": [
    {
     "data": {
      "text/plain": [
       "<AxesSubplot:title={'center':'Age Dist. of athletes in 2020'}>"
      ]
     },
     "execution_count": 9,
     "metadata": {},
     "output_type": "execute_result"
    },
    {
     "data": {
      "image/png": "[encoded data removed]",
      "text/plain": [
       "<Figure size 432x288 with 2 Axes>"
      ]
     },
     "metadata": {
      "needs_background": "light"
     },
     "output_type": "display_data"
    }
   ],
   "source": [
    "olympics2016AgeSorted = olympics2016SortedByAgeNoDup[\"age\"]\n",
    "plt.subplot(121)\n",
    "olympics2016AgeSorted.plot.box(showfliers=False, title=\"Age Dist. of athletes in 2016\")\n",
    "plt.subplot(122)\n",
    "olympics2020AgeSorted = olympics2020SortedByAgeNoDup[\"Age\"]\n",
    "olympics2020AgeSorted.plot.box(showfliers=False, title=\"Age Dist. of athletes in 2020\")\n",
    "#Outliers have been removed/filtered out"
   ]
  },
  {
   "cell_type": "markdown",
   "id": "f9e85305",
   "metadata": {},
   "source": [
    "*Note: This is the same age data as graphed above without competitor duplicates and displayed in a different format in order to see a better distribution rather than just the mean (average) age for each event. Also, the outliers have been filtered out.*"
   ]
  },
  {
   "cell_type": "markdown",
   "id": "8a3b3e81",
   "metadata": {},
   "source": [
    "### What sport do these young and old competitors compete in?"
   ]
  },
  {
   "cell_type": "code",
   "execution_count": 10,
   "id": "23d4c629",
   "metadata": {},
   "outputs": [
    {
     "data": {
      "image/png": "[encoded data removed]",
      "text/plain": [
       "<Figure size 432x288 with 1 Axes>"
      ]
     },
     "metadata": {
      "needs_background": "light"
     },
     "output_type": "display_data"
    }
   ],
   "source": [
    "%matplotlib inline\n",
    "num_bins=3\n",
    "young2016Olympics = olympics2016Young5['sport']\n",
    "young2020Olympics = olympics2020Young5['Sport']\n",
    "plt.hist(young2016Olympics, num_bins, label=\"5 Youngest Athletes 2016 Sports\")\n",
    "plt.hist(young2020Olympics, num_bins, label=\"5 Youngest Athletes 2020 Sports\")\n",
    "plt.legend(loc='lower left', fontsize='12');"
   ]
  },
  {
   "cell_type": "code",
   "execution_count": 11,
   "id": "26ad6ef4",
   "metadata": {
    "scrolled": true
   },
   "outputs": [
    {
     "data": {
      "image/png": "[encoded data removed]",
      "text/plain": [
       "<Figure size 432x288 with 1 Axes>"
      ]
     },
     "metadata": {
      "needs_background": "light"
     },
     "output_type": "display_data"
    }
   ],
   "source": [
    "%matplotlib inline\n",
    "num_bins=3\n",
    "old2016Olympics = olympics2016Old5['sport']\n",
    "old2020Olympics = olympics2020Old5['Sport']\n",
    "plt.hist(old2016Olympics, num_bins, label=\"5 Oldest Athletes 2016 Sports\")\n",
    "plt.hist(old2020Olympics, num_bins, label=\"5 Oldest Athletes 2020 Sports\")\n",
    "plt.legend(loc='lower left', fontsize='12');"
   ]
  },
  {
   "cell_type": "markdown",
   "id": "c134043e",
   "metadata": {},
   "source": [
    "We can see that the youngest athletes from 2016 competed purely in aquatics, and the youngest athletes in 2020 were competitors in Skateboarding and Table Tennis. The oldest athletes from 2016 and 2020 both competed purely as Equestrians.<br>\n",
    "What does that say about the distribution of each of their sports?"
   ]
  },
  {
   "cell_type": "markdown",
   "id": "189f6b56",
   "metadata": {},
   "source": [
    " ### What does the age distribution of their sport in 2016 and 2020 look like, if available? What conclusion can we draw from that?"
   ]
  },
  {
   "cell_type": "markdown",
   "id": "d7140e5e",
   "metadata": {},
   "source": [
    "#### Age Distribution of Aquatic Athletes in 2016"
   ]
  },
  {
   "cell_type": "code",
   "execution_count": 12,
   "id": "d1da7b7e",
   "metadata": {},
   "outputs": [
    {
     "data": {
      "text/plain": [
       "Text(0.5, 1.0, 'Age Distribution of Aquatic Athletes in 2016')"
      ]
     },
     "execution_count": 12,
     "metadata": {},
     "output_type": "execute_result"
    },
    {
     "data": {
      "image/png": "[encoded data removed]",
      "text/plain": [
       "<Figure size 432x288 with 1 Axes>"
      ]
     },
     "metadata": {
      "needs_background": "light"
     },
     "output_type": "display_data"
    }
   ],
   "source": [
    "%matplotlib inline\n",
    "num_bins=25\n",
    "aquaticsAge2016 = olympics2016[olympics2016['sport'] == 'aquatics']['age']\n",
    "plt.hist(aquaticsAge2016, num_bins, label=\"2016\", color='orange')\n",
    "plt.legend(loc='upper right', fontsize='12');\n",
    "plt.title(\"Age Distribution of Aquatic Athletes in 2016\")\n",
    "# A lot aquatics among younger athletes"
   ]
  },
  {
   "cell_type": "code",
   "execution_count": 13,
   "id": "88135cb4",
   "metadata": {},
   "outputs": [
    {
     "name": "stdout",
     "output_type": "stream",
     "text": [
      "The mean age of Aquatic Athletes in 2016 is 23.447750865051905 years old.\n"
     ]
    }
   ],
   "source": [
    "print(\"The mean age of Aquatic Athletes in 2016 is\", aquaticsAge2016.mean(), \"years old.\")"
   ]
  },
  {
   "cell_type": "markdown",
   "id": "26e0f923",
   "metadata": {},
   "source": [
    "*Note: There is No \"Aquatics\" Event in 2020 as the data is Sorted Differently.*"
   ]
  },
  {
   "cell_type": "markdown",
   "id": "9ecadc26",
   "metadata": {},
   "source": [
    "We can see that the age distribution of aquatic athletes in 2016 is heavily right skewed and there aren't any aquatic athletes over the age of 45 in the 2016 Summer Olympics. This makes sense as all of our 5 youngest athletes in 2016 are 13 and 14 years old and compete in aquatics. The mean age for aquatic athletes in 2016 is 23 years old which is lower than the olympic athlete average age of 26 in 2016. This makes sense as the graph is heavily right skewed."
   ]
  },
  {
   "cell_type": "markdown",
   "id": "beeb5bed",
   "metadata": {},
   "source": [
    "#### Age Distribution of Skate Boarders in 2020"
   ]
  },
  {
   "cell_type": "code",
   "execution_count": 14,
   "id": "2d9e83f7",
   "metadata": {},
   "outputs": [
    {
     "data": {
      "text/plain": [
       "Text(0.5, 1.0, 'Age Distribution of Skateboarders in 2020')"
      ]
     },
     "execution_count": 14,
     "metadata": {},
     "output_type": "execute_result"
    },
    {
     "data": {
      "image/png": "[encoded data removed]",
      "text/plain": [
       "<Figure size 432x288 with 1 Axes>"
      ]
     },
     "metadata": {
      "needs_background": "light"
     },
     "output_type": "display_data"
    }
   ],
   "source": [
    "%matplotlib inline\n",
    "num_bins=30\n",
    "skateboardingAge2020 = olympics2020[olympics2020['Sport'] == 'Skateboarding']['Age']\n",
    "plt.hist(skateboardingAge2020, num_bins, label=\"2020\")\n",
    "plt.legend(loc='upper right', fontsize='12');\n",
    "plt.title(\"Age Distribution of Skateboarders in 2020\")\n",
    "# A lot skateboarding among younger athletes"
   ]
  },
  {
   "cell_type": "code",
   "execution_count": 15,
   "id": "e62bb9b5",
   "metadata": {},
   "outputs": [
    {
     "name": "stdout",
     "output_type": "stream",
     "text": [
      "The mean age of Skate Boarders in 2020 is 22.575 years old.\n"
     ]
    }
   ],
   "source": [
    "print(\"The mean age of Skate Boarders in 2020 is\", skateboardingAge2020.mean(), \"years old.\")"
   ]
  },
  {
   "cell_type": "markdown",
   "id": "05e6c4f2",
   "metadata": {},
   "source": [
    "*Note: There is No \"Skateboarding\" Event in 2016 as the data is Sorted Differently.*"
   ]
  },
  {
   "cell_type": "markdown",
   "id": "dd03d1aa",
   "metadata": {},
   "source": [
    "4 of the youngest athletes in the 2020 Summer Olympics competed in Skateboarding. Looking at the age distribution, we can see that this graph is heavily right skewed. We can also tell from the graph that there aren't very many skateboarding comepetitors, which gives us a small sample size. This allows us to inquire, what is the average age and age distribution of skateboarders in other competitions, specifically skateboarding competitions? Does it differ from the average age and age distribution of skateboarders in the 2020 Summer Olympics?"
   ]
  },
  {
   "cell_type": "markdown",
   "id": "95d4aa52",
   "metadata": {},
   "source": [
    "#### Age Distribution of Athletes that play Table Tennis in 2016 and 2020"
   ]
  },
  {
   "cell_type": "code",
   "execution_count": 16,
   "id": "3c73e95e",
   "metadata": {},
   "outputs": [
    {
     "data": {
      "text/plain": [
       "Text(0, 0.5, 'Number of Athletes')"
      ]
     },
     "execution_count": 16,
     "metadata": {},
     "output_type": "execute_result"
    },
    {
     "data": {
      "image/png": "[encoded data removed]",
      "text/plain": [
       "<Figure size 432x288 with 2 Axes>"
      ]
     },
     "metadata": {
      "needs_background": "light"
     },
     "output_type": "display_data"
    }
   ],
   "source": [
    "%matplotlib inline\n",
    "num_bins=20\n",
    "tableTennisAge2020 = olympics2020[olympics2020['Sport'] == 'Table Tennis']['Age']\n",
    "tableTennisAge2016 = olympics2016[olympics2016['sport'] == 'table tennis']['age']\n",
    "plt.subplot(122)\n",
    "plt.hist(tableTennisAge2020, num_bins, label=\"2020\")\n",
    "plt.legend(loc='upper right', fontsize='12');\n",
    "plt.xlabel(\"Age in Years\")\n",
    "plt.subplot(121)\n",
    "plt.hist(tableTennisAge2016, num_bins, label=\"2016\", color='orange')\n",
    "plt.legend(loc='upper right', fontsize='12');\n",
    "plt.suptitle(\"Age Distribution of Athletes that play Table Tennis in 2016 and 2020\")\n",
    "plt.xlabel(\"Age in Years\")\n",
    "plt.ylabel(\"Number of Athletes\")\n",
    "# The young table tennis player seems to be an outlier, cool learning from data"
   ]
  },
  {
   "cell_type": "code",
   "execution_count": 17,
   "id": "923d955b",
   "metadata": {},
   "outputs": [
    {
     "name": "stdout",
     "output_type": "stream",
     "text": [
      "The mean age of Athletes that play Table Tennis in 2016 is 27.75581395348837 years old.\n",
      "The mean age of Athletes that play Table Tennis in 2020 is 29.068441064638783 years old.\n"
     ]
    }
   ],
   "source": [
    "print(\"The mean age of Athletes that play Table Tennis in 2016 is\", tableTennisAge2016.mean(), \"years old.\")\n",
    "print(\"The mean age of Athletes that play Table Tennis in 2020 is\", tableTennisAge2020.mean(), \"years old.\")"
   ]
  },
  {
   "cell_type": "markdown",
   "id": "b37e5944",
   "metadata": {},
   "source": [
    "Both, the 2016 and 2020 Summer Olympic Datasets, have Table Tennis included so we can do a direct comparison of the age distribution of the event in both olympics. We can see from both histograms that the age distribution is right skewed with a few outliers on each end of the distribution. These graphs are not as heavily right skewed as the Aquatics event from 2016 as there are no competitors over the age of 45 in that event, but table tennis still has quite a few competitors that are in the younger age bracket, making the histogram right skewed. "
   ]
  },
  {
   "cell_type": "markdown",
   "id": "bc64530d",
   "metadata": {},
   "source": [
    "#### Age Distribution of Equestrians in 2016 and 2020"
   ]
  },
  {
   "cell_type": "code",
   "execution_count": 18,
   "id": "c352beda",
   "metadata": {},
   "outputs": [
    {
     "data": {
      "text/plain": [
       "Text(0, 0.5, 'Number of Athletes')"
      ]
     },
     "execution_count": 18,
     "metadata": {},
     "output_type": "execute_result"
    },
    {
     "data": {
      "image/png": "[encoded data removed]",
      "text/plain": [
       "<Figure size 432x288 with 2 Axes>"
      ]
     },
     "metadata": {
      "needs_background": "light"
     },
     "output_type": "display_data"
    }
   ],
   "source": [
    "%matplotlib inline\n",
    "num_bins=20\n",
    "equestrianAge2020 = olympics2020[olympics2020['Sport'] == 'Equestrian']['Age']\n",
    "equestrianAge2016 = olympics2016[olympics2016['sport'] == 'equestrian']['age']\n",
    "plt.subplot(122)\n",
    "plt.hist(equestrianAge2020, num_bins, label=\"2020\")\n",
    "plt.legend(loc='upper right', fontsize='12');\n",
    "plt.xlabel(\"Age in Years\")\n",
    "plt.subplot(121)\n",
    "plt.hist(equestrianAge2016, num_bins, label=\"2016\", color='orange')\n",
    "plt.legend(loc='upper right', fontsize='12');\n",
    "plt.suptitle(\"Age Distribution of Equestrians in 2016 and 2020\")\n",
    "plt.xlabel(\"Age in Years\")\n",
    "plt.ylabel(\"Number of Athletes\")\n",
    "# Lots of Equestrians among older athletes"
   ]
  },
  {
   "cell_type": "code",
   "execution_count": 19,
   "id": "8ad12da6",
   "metadata": {},
   "outputs": [
    {
     "name": "stdout",
     "output_type": "stream",
     "text": [
      "The mean age of Equestrians in 2016 is 37.26126126126126 years old.\n",
      "The mean age of Equestrians in 2020 is 38.09761904761905 years old.\n"
     ]
    }
   ],
   "source": [
    "print(\"The mean age of Equestrians in 2016 is\", equestrianAge2016.mean(), \"years old.\")\n",
    "print(\"The mean age of Equestrians in 2020 is\", equestrianAge2020.mean(), \"years old.\")"
   ]
  },
  {
   "cell_type": "markdown",
   "id": "ecc66def",
   "metadata": {},
   "source": [
    "Both, the 2016 and 2020 Summer Olympic Datasets, have Equestrian included so we can do a direct comparison of the age distribution of the event in both olympics. We can see that the age data associated with equestrians is more spread out than other sports such as aquatics or skateboarding. This means that for equestrians, it is more likely to have an older athlete competing as the distribution is closer to uniform than in the sports, like aquatics or skateboarding, where the graph is heavily right skewed because the athletes in that sport are generally younger."
   ]
  },
  {
   "cell_type": "markdown",
   "id": "2e72c7ed",
   "metadata": {},
   "source": [
    "### Do any of the older or younger athletes compete in events that tend to have younger or older competitors, respectively?"
   ]
  },
  {
   "cell_type": "markdown",
   "id": "3101373a",
   "metadata": {},
   "source": [
    "Yes, all of these athletes compete in events that tend to have younger or older competitors, respectively. All of the younger athletes, specifically the top 5 in our case, compete in events that are heavily right skewed. This demonstrates that this event tends to have younger athletes competing. For the older compeditors, specifically the top 5 in our data, compete in the same event, Equestrian. The Equestrian event has a different distibution than the other events we looked at because the mean age of competitors in the Equestrian event is over the age of 30. //TODO"
   ]
  },
  {
   "cell_type": "markdown",
   "id": "fcf161fe",
   "metadata": {},
   "source": [
    "### Did any of these athletes compete in 2016 and 2020?"
   ]
  },
  {
   "cell_type": "code",
   "execution_count": 20,
   "id": "8b31e7cc",
   "metadata": {},
   "outputs": [
    {
     "name": "stdout",
     "output_type": "stream",
     "text": [
      "10185     Suzanne Hearn\n",
      "6982          Mark Todd\n",
      "7092         Mary Hanna\n",
      "5045      John Whitaker\n",
      "5299     Julie Brougham\n",
      "Name: name, dtype: object\n",
      "9952     OUADDAR Abdelkebir\n",
      "10489          PINTO Carlos\n",
      "4817         GULLIKSEN Geir\n",
      "5506             HOY Andrew\n",
      "4980             HANNA Mary\n",
      "Name: Name, dtype: object\n"
     ]
    }
   ],
   "source": [
    "print(olympics2016Old5[\"name\"])\n",
    "print(olympics2020Old5[\"Name\"])"
   ]
  },
  {
   "cell_type": "markdown",
   "id": "87a855d2",
   "metadata": {},
   "source": [
    "Through visual inspection, we can see that one older athlete, Mary Hanna, competed in both the 2016 and 2020 Summer Olympic Games."
   ]
  },
  {
   "cell_type": "code",
   "execution_count": 21,
   "id": "d9e28e79",
   "metadata": {},
   "outputs": [
    {
     "name": "stdout",
     "output_type": "stream",
     "text": [
      "654          Ana Iulia Dascal\n",
      "3598            Gaurika Singh\n",
      "10433             Thint Myaat\n",
      "9918     Siri Arun Budcharern\n",
      "715        Anastasiya Tyurina\n",
      "Name: name, dtype: object\n",
      "5324      HIRAKI Kokona\n",
      "14944         ZAZA Hend\n",
      "9549     NISHIYA Momiji\n",
      "1764          BROWN Sky\n",
      "7294        LEAL Rayssa\n",
      "Name: Name, dtype: object\n"
     ]
    }
   ],
   "source": [
    "print(olympics2016Young5[\"name\"])\n",
    "print(olympics2020Young5[\"Name\"])"
   ]
  },
  {
   "cell_type": "markdown",
   "id": "7ba225fd",
   "metadata": {},
   "source": [
    "Through visual inspection, we can see that none of the younger athletes competed in both the 2016 and 2020 Summer Olympic Games."
   ]
  },
  {
   "cell_type": "markdown",
   "id": "551f1c2f",
   "metadata": {},
   "source": [
    "We cannot use numpy or pandas to check if the any of the athletes competed in both 2016 and 2020 as the names are formatted differently in the 2 datasets."
   ]
  },
  {
   "cell_type": "markdown",
   "id": "797993c6",
   "metadata": {},
   "source": [
    "### Results:"
   ]
  },
  {
   "cell_type": "markdown",
   "id": "7b9a95d5",
   "metadata": {},
   "source": []
  },
  {
   "cell_type": "markdown",
   "id": "bc68c85a",
   "metadata": {},
   "source": [
    "## Part 3: Which Olympic athlete has the most medals in 2016?"
   ]
  },
  {
   "cell_type": "code",
   "execution_count": 22,
   "id": "fe699697",
   "metadata": {},
   "outputs": [
    {
     "data": {
      "text/html": [
       "<div>\n",
       "<style scoped>\n",
       "    .dataframe tbody tr th:only-of-type {\n",
       "        vertical-align: middle;\n",
       "    }\n",
       "\n",
       "    .dataframe tbody tr th {\n",
       "        vertical-align: top;\n",
       "    }\n",
       "\n",
       "    .dataframe thead th {\n",
       "        text-align: right;\n",
       "    }\n",
       "</style>\n",
       "<table border=\"1\" class=\"dataframe\">\n",
       "  <thead>\n",
       "    <tr style=\"text-align: right;\">\n",
       "      <th></th>\n",
       "      <th>id</th>\n",
       "      <th>name</th>\n",
       "      <th>nationality</th>\n",
       "      <th>sex</th>\n",
       "      <th>dob</th>\n",
       "      <th>height</th>\n",
       "      <th>weight</th>\n",
       "      <th>sport</th>\n",
       "      <th>gold</th>\n",
       "      <th>silver</th>\n",
       "      <th>bronze</th>\n",
       "      <th>age</th>\n",
       "      <th>numMedals</th>\n",
       "    </tr>\n",
       "  </thead>\n",
       "  <tbody>\n",
       "    <tr>\n",
       "      <th>7401</th>\n",
       "      <td>491565031</td>\n",
       "      <td>Michael Phelps</td>\n",
       "      <td>USA</td>\n",
       "      <td>male</td>\n",
       "      <td>1985-06-30</td>\n",
       "      <td>1.94</td>\n",
       "      <td>90.0</td>\n",
       "      <td>aquatics</td>\n",
       "      <td>5</td>\n",
       "      <td>1</td>\n",
       "      <td>0</td>\n",
       "      <td>31</td>\n",
       "      <td>6</td>\n",
       "    </tr>\n",
       "  </tbody>\n",
       "</table>\n",
       "</div>"
      ],
      "text/plain": [
       "             id            name nationality   sex        dob  height  weight  \\\n",
       "7401  491565031  Michael Phelps         USA  male 1985-06-30    1.94    90.0   \n",
       "\n",
       "         sport  gold  silver  bronze  age  numMedals  \n",
       "7401  aquatics     5       1       0   31          6  "
      ]
     },
     "execution_count": 22,
     "metadata": {},
     "output_type": "execute_result"
    }
   ],
   "source": [
    "olympics2016['numMedals'] = olympics2016['gold'] + olympics2016['silver'] + olympics2016['bronze']\n",
    "sortByNumMedals2016 = olympics2016.sort_values(by=\"numMedals\", ascending = False)\n",
    "topAthlete2016 = sortByNumMedals2016.head(1)\n",
    "topAthlete2016"
   ]
  },
  {
   "cell_type": "markdown",
   "id": "b31cf358",
   "metadata": {},
   "source": [
    "## Part 4: What are the top 10 medaling countries in 2016? 2020? Compare."
   ]
  },
  {
   "cell_type": "code",
   "execution_count": 23,
   "id": "e1112d82",
   "metadata": {},
   "outputs": [
    {
     "data": {
      "text/plain": [
       "nationality\n",
       "USA    264\n",
       "GER    160\n",
       "GBR    145\n",
       "RUS    115\n",
       "CHN    113\n",
       "FRA     95\n",
       "AUS     82\n",
       "ITA     72\n",
       "CAN     69\n",
       "JPN     65\n",
       "Name: numMedals, dtype: int64"
      ]
     },
     "execution_count": 23,
     "metadata": {},
     "output_type": "execute_result"
    }
   ],
   "source": [
    "olympics2016.groupby('nationality').aggregate('sum').sort_values(by='gold', ascending=False).head(10)\n",
    "olympics2016.groupby('nationality').aggregate('sum').sort_values(by='numMedals', ascending=False)['numMedals'].head(10)"
   ]
  },
  {
   "cell_type": "code",
   "execution_count": 24,
   "id": "f2a72df3",
   "metadata": {},
   "outputs": [
    {
     "data": {
      "text/plain": [
       "Country\n",
       "United States    298\n",
       "Russia           149\n",
       "France           141\n",
       "China            141\n",
       "Great Britain    141\n",
       "Japan            131\n",
       "Australia        131\n",
       "Canada            85\n",
       "Germany           81\n",
       "Italy             76\n",
       "Name: Medal, dtype: int64"
      ]
     },
     "execution_count": 24,
     "metadata": {},
     "output_type": "execute_result"
    }
   ],
   "source": [
    "olympics2020.groupby('Country').aggregate('count').sort_values(by='Medal', ascending=False)['Medal'].head(10)"
   ]
  },
  {
   "cell_type": "markdown",
   "id": "1e8ab624",
   "metadata": {},
   "source": [
    "### Results:"
   ]
  },
  {
   "cell_type": "markdown",
   "id": "e9d9ab8c",
   "metadata": {},
   "source": [
    "Shown above are the top medaling countries in the 2016 and 2020 Summer Olympics. \n",
    " - We can see that the United States is the top country in number of medals won in both the 2016 and 2020 Summer Olympics.\n",
    " - We can also see that the other top 9 teams are the same teams in 2016 and 2020, but just in a different order.\n",
    " - **__This creates a question for further inquiry:__** How many years in the history of the summer olympics do we have these top 10 countries in the top 10? Is there something about these countries that helps them achieve this?"
   ]
  },
  {
   "cell_type": "markdown",
   "id": "33ce59da",
   "metadata": {},
   "source": [
    "## Part 5: Does the United States have more female or male medalists in 2020?"
   ]
  },
  {
   "cell_type": "code",
   "execution_count": 25,
   "id": "78d5c140",
   "metadata": {},
   "outputs": [
    {
     "data": {
      "text/plain": [
       "<BarContainer object of 1 artists>"
      ]
     },
     "execution_count": 25,
     "metadata": {},
     "output_type": "execute_result"
    },
    {
     "data": {
      "image/png": "[encoded data removed]",
      "text/plain": [
       "<Figure size 1008x720 with 1 Axes>"
      ]
     },
     "metadata": {
      "needs_background": "light"
     },
     "output_type": "display_data"
    }
   ],
   "source": [
    "%matplotlib inline\n",
    "\n",
    "usAthletes = olympics2020.loc[olympics2020['Country'] == 'United States']\n",
    "usMedalists = usAthletes.loc[pd.notna(usAthletes['Medal'])]\n",
    "usMedalistsGender = usMedalists['Gender']\n",
    "plt.figure(figsize=(14, 10))\n",
    "plt.subplot(221)\n",
    "maleUS = usMedalists[usMedalists['Gender'] == 'Male']\n",
    "plt.barh(\"Male\", maleUS['Gender'].count())\n",
    "plt.subplot(221)\n",
    "femaleUS = usMedalists[usMedalists['Gender'] == 'Female']\n",
    "plt.barh(\"Female\", femaleUS['Gender'].count(), color='orange')"
   ]
  },
  {
   "cell_type": "code",
   "execution_count": 26,
   "id": "381ca926",
   "metadata": {},
   "outputs": [
    {
     "data": {
      "text/plain": [
       "298"
      ]
     },
     "execution_count": 26,
     "metadata": {},
     "output_type": "execute_result"
    }
   ],
   "source": [
    "countMale = maleUS['Name'].count()\n",
    "countFemale = femaleUS['Name'].count()\n",
    "totalMedalists = countMale + countFemale;\n",
    "totalMedalists\n",
    "# This demonstrates that the number female and male United States medalists in Summer 2020 equals\n",
    "# the total number of United States medalists in 2020."
   ]
  },
  {
   "cell_type": "markdown",
   "id": "b0d837f7",
   "metadata": {},
   "source": [
    "We can clearly see that there are more female medalists than male medalists in 2020 for the United States. We also know that our data makes sense because when we add the number of rows from each subset of medalists, both male and female, we get the total number of medalists."
   ]
  },
  {
   "cell_type": "markdown",
   "id": "f1d816b5",
   "metadata": {},
   "source": [
    "### What is the average age of United States Male Medalists? Of United States Female Medalists? Of All United States Medalists?"
   ]
  },
  {
   "cell_type": "code",
   "execution_count": 27,
   "id": "7c926841",
   "metadata": {},
   "outputs": [
    {
     "data": {
      "text/plain": [
       "26.85981308411215"
      ]
     },
     "execution_count": 27,
     "metadata": {},
     "output_type": "execute_result"
    }
   ],
   "source": [
    "maleUSMeanAge = maleUS['Age'].mean()\n",
    "maleUSMeanAge"
   ]
  },
  {
   "cell_type": "code",
   "execution_count": 28,
   "id": "1ea023f5",
   "metadata": {},
   "outputs": [
    {
     "data": {
      "text/plain": [
       "26.465968586387433"
      ]
     },
     "execution_count": 28,
     "metadata": {},
     "output_type": "execute_result"
    }
   ],
   "source": [
    "femaleUSMeanAge = femaleUS['Age'].mean()\n",
    "femaleUSMeanAge"
   ]
  },
  {
   "cell_type": "code",
   "execution_count": 29,
   "id": "ac37bf52",
   "metadata": {},
   "outputs": [
    {
     "data": {
      "text/plain": [
       "26.607382550335572"
      ]
     },
     "execution_count": 29,
     "metadata": {},
     "output_type": "execute_result"
    }
   ],
   "source": [
    "usMedalistsMeanAge = usMedalists['Age'].mean()\n",
    "usMedalistsMeanAge"
   ]
  },
  {
   "cell_type": "markdown",
   "id": "462b706f",
   "metadata": {},
   "source": [
    "#### How do these comapare to the average age of all olympic athletes in the 2020 Summer Olympics?"
   ]
  },
  {
   "cell_type": "markdown",
   "id": "a0b72bc2",
   "metadata": {},
   "source": [
    "*Analysis:*"
   ]
  },
  {
   "cell_type": "markdown",
   "id": "4066a82f",
   "metadata": {},
   "source": [
    "## Conclusion"
   ]
  },
  {
   "cell_type": "markdown",
   "id": "f1fc862c",
   "metadata": {},
   "source": [
    "CONCLUSION"
   ]
  },
  {
   "cell_type": "markdown",
   "id": "4d8e9047",
   "metadata": {},
   "source": [
    "## Future Questions of Inquiry"
   ]
  },
  {
   "cell_type": "markdown",
   "id": "a43a0ad2",
   "metadata": {},
   "source": [
    "3-4 Questions"
   ]
  }
 ],
 "metadata": {
  "kernelspec": {
   "display_name": "Python 3 (ipykernel)",
   "language": "python",
   "name": "python3"
  },
  "language_info": {
   "codemirror_mode": {
    "name": "ipython",
    "version": 3
   },
   "file_extension": ".py",
   "mimetype": "text/x-python",
   "name": "python",
   "nbconvert_exporter": "python",
   "pygments_lexer": "ipython3",
   "version": "3.9.7"
  }
 },
 "nbformat": 4,
 "nbformat_minor": 5
}
